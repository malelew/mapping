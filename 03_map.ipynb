{
 "cells": [
  {
   "cell_type": "markdown",
   "id": "6666da63-ab56-455b-a087-da2c52ccf074",
   "metadata": {},
   "source": [
    "# Map Richmond crashes - DUIs"
   ]
  },
  {
   "cell_type": "code",
   "execution_count": 14,
   "id": "831cfc08-a5ed-4257-839f-7df9bcf0cea5",
   "metadata": {},
   "outputs": [],
   "source": [
    "import geopandas as gpd\n",
    "import pandas as pd\n",
    "from keplergl import KeplerGl"
   ]
  },
  {
   "cell_type": "code",
   "execution_count": 39,
   "id": "09fa0083-7da2-4ab1-8334-46a186c0590c",
   "metadata": {
    "tags": []
   },
   "outputs": [],
   "source": [
    "crashes = pd.read_csv(\n",
    "    \"outputs/richmond_crashes_geocoded.csv\",\n",
    "    dtype={\"Zip\": object},\n",
    "    parse_dates=[\"timestamp\"],\n",
    ")\n",
    "del crashes[\"timestamp\"]"
   ]
  },
  {
   "cell_type": "code",
   "execution_count": 40,
   "id": "337c92b9-954c-4256-a942-d4b7b8059a1b",
   "metadata": {},
   "outputs": [
    {
     "name": "stdout",
     "output_type": "stream",
     "text": [
      "User Guide: https://docs.kepler.gl/docs/keplergl-jupyter\n"
     ]
    }
   ],
   "source": [
    "kepler_map = KeplerGl(height=600)"
   ]
  },
  {
   "cell_type": "code",
   "execution_count": 41,
   "id": "e4a7809c-1ebf-4b45-93c9-365f7900af7c",
   "metadata": {
    "tags": []
   },
   "outputs": [
    {
     "name": "stderr",
     "output_type": "stream",
     "text": [
      "/opt/conda/lib/python3.11/site-packages/jupyter_client/session.py:721: UserWarning: Message serialization failed with:\n",
      "Out of range float values are not JSON compliant\n",
      "Supporting this message is deprecated in jupyter-client 7, please make sure your message is JSON-compliant\n",
      "  content = self.pack(content)\n"
     ]
    }
   ],
   "source": [
    "kepler_map.add_data(data=crashes, name=\"crashes\")"
   ]
  },
  {
   "cell_type": "code",
   "execution_count": 42,
   "id": "e064cd93-1630-42aa-8762-c77f60c8aa65",
   "metadata": {
    "tags": []
   },
   "outputs": [],
   "source": [
    "config = {\n",
    "    \"version\": \"v1\",\n",
    "    \"config\": {\n",
    "        \"visState\": {\n",
    "            \"filters\": [\n",
    "                {\n",
    "                    \"dataId\": [\"crashes\"],\n",
    "                    \"id\": \"j2gv66yj\",\n",
    "                    \"name\": [\"primary_collision_factor\"],\n",
    "                    \"type\": \"multiSelect\",\n",
    "                    \"value\": [\"Driving Under Influence\"],\n",
    "                    \"enlarged\": False,\n",
    "                    \"plotType\": \"histogram\",\n",
    "                    \"animationWindow\": \"free\",\n",
    "                    \"yAxis\": None,\n",
    "                    \"speed\": 1,\n",
    "                }\n",
    "            ],\n",
    "            \"layers\": [\n",
    "                {\n",
    "                    \"id\": \"o85cnyc\",\n",
    "                    \"type\": \"heatmap\",\n",
    "                    \"config\": {\n",
    "                        \"dataId\": \"crashes\",\n",
    "                        \"label\": \"Heatmap\",\n",
    "                        \"color\": [18, 147, 154],\n",
    "                        \"highlightColor\": [252, 242, 26, 255],\n",
    "                        \"columns\": {\"lat\": \"Latitude\", \"lng\": \"Longitude\"},\n",
    "                        \"isVisible\": True,\n",
    "                        \"visConfig\": {\n",
    "                            \"opacity\": 0.8,\n",
    "                            \"colorRange\": {\n",
    "                                \"name\": \"Global Warming\",\n",
    "                                \"type\": \"sequential\",\n",
    "                                \"category\": \"Uber\",\n",
    "                                \"colors\": [\n",
    "                                    \"#5A1846\",\n",
    "                                    \"#900C3F\",\n",
    "                                    \"#C70039\",\n",
    "                                    \"#E3611C\",\n",
    "                                    \"#F1920E\",\n",
    "                                    \"#FFC300\",\n",
    "                                ],\n",
    "                                \"reversed\": False,\n",
    "                            },\n",
    "                            \"radius\": 10,\n",
    "                        },\n",
    "                        \"hidden\": False,\n",
    "                        \"textLabel\": [\n",
    "                            {\n",
    "                                \"field\": None,\n",
    "                                \"color\": [255, 255, 255],\n",
    "                                \"size\": 18,\n",
    "                                \"offset\": [0, 0],\n",
    "                                \"anchor\": \"start\",\n",
    "                                \"alignment\": \"center\",\n",
    "                            }\n",
    "                        ],\n",
    "                    },\n",
    "                    \"visualChannels\": {\"weightField\": None, \"weightScale\": \"linear\"},\n",
    "                },\n",
    "                {\n",
    "                    \"id\": \"m3125a\",\n",
    "                    \"type\": \"cluster\",\n",
    "                    \"config\": {\n",
    "                        \"dataId\": \"crashes\",\n",
    "                        \"label\": \"Crashes\",\n",
    "                        \"color\": [30, 150, 190],\n",
    "                        \"highlightColor\": [252, 242, 26, 255],\n",
    "                        \"columns\": {\"lat\": \"Latitude\", \"lng\": \"Longitude\"},\n",
    "                        \"isVisible\": False,\n",
    "                        \"visConfig\": {\n",
    "                            \"opacity\": 0.5,\n",
    "                            \"clusterRadius\": 19,\n",
    "                            \"colorRange\": {\n",
    "                                \"name\": \"Custom Palette\",\n",
    "                                \"type\": \"custom\",\n",
    "                                \"category\": \"Custom\",\n",
    "                                \"colors\": [\"#FFC300\"],\n",
    "                            },\n",
    "                            \"radiusRange\": [0, 50],\n",
    "                            \"colorAggregation\": \"count\",\n",
    "                        },\n",
    "                        \"hidden\": False,\n",
    "                        \"textLabel\": [\n",
    "                            {\n",
    "                                \"field\": None,\n",
    "                                \"color\": [255, 255, 255],\n",
    "                                \"size\": 18,\n",
    "                                \"offset\": [0, 0],\n",
    "                                \"anchor\": \"start\",\n",
    "                                \"alignment\": \"center\",\n",
    "                            }\n",
    "                        ],\n",
    "                    },\n",
    "                    \"visualChannels\": {\"colorField\": None, \"colorScale\": \"quantize\"},\n",
    "                },\n",
    "            ],\n",
    "            \"interactionConfig\": {\n",
    "                \"tooltip\": {\n",
    "                    \"fieldsToShow\": {\n",
    "                        \"crashes\": [\n",
    "                            {\"name\": \"report_number\", \"format\": None},\n",
    "                            {\"name\": \"collision_type\", \"format\": None},\n",
    "                            {\"name\": \"violation\", \"format\": None},\n",
    "                            {\"name\": \"intersection\", \"format\": None},\n",
    "                        ]\n",
    "                    },\n",
    "                    \"compareMode\": False,\n",
    "                    \"compareType\": \"absolute\",\n",
    "                    \"enabled\": True,\n",
    "                },\n",
    "                \"brush\": {\"size\": 0.5, \"enabled\": False},\n",
    "                \"geocoder\": {\"enabled\": False},\n",
    "                \"coordinate\": {\"enabled\": False},\n",
    "            },\n",
    "            \"layerBlending\": \"normal\",\n",
    "            \"splitMaps\": [],\n",
    "            \"animationConfig\": {\"currentTime\": None, \"speed\": 1},\n",
    "        },\n",
    "        \"mapState\": {\n",
    "            \"bearing\": 0,\n",
    "            \"dragRotate\": False,\n",
    "            \"latitude\": 37.93402933208297,\n",
    "            \"longitude\": -122.35320127523289,\n",
    "            \"pitch\": 0,\n",
    "            \"zoom\": 12.47204496014325,\n",
    "            \"isSplit\": False,\n",
    "        },\n",
    "        \"mapStyle\": {\n",
    "            \"styleType\": \"dark\",\n",
    "            \"topLayerGroups\": {},\n",
    "            \"visibleLayerGroups\": {\n",
    "                \"label\": True,\n",
    "                \"road\": True,\n",
    "                \"border\": False,\n",
    "                \"building\": True,\n",
    "                \"water\": True,\n",
    "                \"land\": True,\n",
    "                \"3d building\": False,\n",
    "            },\n",
    "            \"threeDBuildingColor\": [\n",
    "                9.665468314072013,\n",
    "                17.18305478057247,\n",
    "                31.1442867897876,\n",
    "            ],\n",
    "            \"mapStyles\": {},\n",
    "        },\n",
    "    },\n",
    "}"
   ]
  },
  {
   "cell_type": "code",
   "execution_count": 43,
   "id": "8e4a37a1-fedc-4d97-9827-6721693f90c1",
   "metadata": {
    "tags": []
   },
   "outputs": [],
   "source": [
    "kepler_map.config = config"
   ]
  },
  {
   "cell_type": "markdown",
   "id": "7b51b058-cc35-4712-b7aa-c905455fe2ec",
   "metadata": {},
   "source": [
    "## Heat map"
   ]
  },
  {
   "cell_type": "code",
   "execution_count": 44,
   "id": "72a65ccb-2bcf-4323-8688-819871a68742",
   "metadata": {},
   "outputs": [
    {
     "name": "stdout",
     "output_type": "stream",
     "text": [
      "Map saved to keplergl_map.html!\n"
     ]
    }
   ],
   "source": [
    "kepler_map.save_to_html()"
   ]
  },
  {
   "cell_type": "code",
   "execution_count": null,
   "id": "08f16dea-73ab-4d91-8bea-177b5bcfe527",
   "metadata": {},
   "outputs": [],
   "source": []
  }
 ],
 "metadata": {
  "kernelspec": {
   "display_name": "Python 3 (ipykernel)",
   "language": "python",
   "name": "python3"
  },
  "language_info": {
   "codemirror_mode": {
    "name": "ipython",
    "version": 3
   },
   "file_extension": ".py",
   "mimetype": "text/x-python",
   "name": "python",
   "nbconvert_exporter": "python",
   "pygments_lexer": "ipython3",
   "version": "3.11.6"
  }
 },
 "nbformat": 4,
 "nbformat_minor": 5
}
